{
  "nbformat": 4,
  "nbformat_minor": 0,
  "metadata": {
    "colab": {
      "provenance": []
    },
    "kernelspec": {
      "name": "python3",
      "display_name": "Python 3"
    },
    "language_info": {
      "name": "python"
    }
  },
  "cells": [
    {
      "cell_type": "markdown",
      "source": [
        "# Ficha de Expressões Regulares 2\n",
        "\n",
        "Autora: Sofia Santos\n",
        "\n",
        "---\n",
        "\n",
        "Cartoon relevante\n",
        "\n",
        "<img src=\"https://drive.google.com/uc?id=1YMZ6r9adsBTs427XUaIooQ90T5yMRiTv\" width=500>"
      ],
      "metadata": {
        "id": "oVaAea-wCM6H"
      }
    },
    {
      "cell_type": "markdown",
      "source": [
        "### Conceitos mais avançados de expressões regulares\n",
        "\n",
        "- `\\w` - corresponde a um caracter alfanumérico (a-z, A-Z, 0-9 ou _).\n",
        "- `\\W` - corresponde a um caracter **não** alfanumérico.\n",
        "- `\\s` - corresponde a um caracter de *whitespace* (' ', '\\t', ou '\\n', por exemplo).\n",
        "- `\\S` - corresponde a um caracter que não seja *whitespace*.\n",
        "- `\\d` - corresponde a um dígito.\n",
        "- `\\D` - corresponde a um caracter que não seja um dígito.\n",
        "- `\\btot\\w+` - corresponde a uma palavra **começada** por \"tot\" (o token `\\b` representa uma *word boundary*, ou seja, o limite entre um caracter alfanumérico e um não alfanumérico). Por exemplo, esta expressão regular captura a palavra \"totalidade\" mas não a palavra \"batota\". O token `\\b` também pode ser usado no fim de palavras.\n",
        "- `a(?=b)` - corresponde a um caracter `a` que tenha à sua frente um caracter `b`, mas não captura o caracter `b`. (*positive lookahead*)\n",
        "- `a(?!b)` - corresponde a um caracter `a` que **não** tenha à sua frente um caracter `b`, mas não captura o caracter seguinte. (*negative lookahead*)\n",
        "- `(?<=b)a` - corresponde a um caracter `a` que tenha atrás de si um caracter `b`, mas não captura o caracter `b`. (*positive lookbehind*)\n",
        "- `(?<!b)a` - corresponde a um caracter `a` que **não** tenha atrás de si um caracter `b`, mas não captura o caracter anterior. (*negative lookbehind*)\n"
      ],
      "metadata": {
        "id": "gk5jnHXt9t4y"
      }
    },
    {
      "cell_type": "markdown",
      "source": [
        "Podemos usar *grupos de captura* em expressões regulares para isolar segmentos da string capturada. Usamos parênteses para definir grupos de captura."
      ],
      "metadata": {
        "id": "lTaHmSRMMmvI"
      }
    },
    {
      "cell_type": "code",
      "source": [
        "import re\n",
        "m = re.search(r'(2[0-3]|[0-1][0-9]):([0-5][0-9])', \"a hora é 13:49\")\n",
        "\n",
        "print(m.groups()) # conjunto dos grupos de captura\n",
        "print(m.group(0)) # toda a string capturada\n",
        "print(m.group(1)) # o primeiro grupo de captura"
      ],
      "metadata": {
        "id": "1Aig805EMion",
        "colab": {
          "base_uri": "https://localhost:8080/"
        },
        "outputId": "367cfaa7-3e21-4454-bf03-34aa0803a675"
      },
      "execution_count": null,
      "outputs": [
        {
          "output_type": "stream",
          "name": "stdout",
          "text": [
            "('13', '49')\n",
            "13:49\n",
            "13\n"
          ]
        }
      ]
    },
    {
      "cell_type": "markdown",
      "source": [
        "Na função `re.sub`, podemos usar a sintaxe `\\N`, em que `N` é um número positivo, para nos referirmos ao n-ésimo grupo de captura."
      ],
      "metadata": {
        "id": "NOnJXgkkNToG"
      }
    },
    {
      "cell_type": "code",
      "source": [
        "coords = \"(1,2) (5,8) (-2,3)\"\n",
        "\n",
        "print(re.sub(r\"\\((-?\\d+),(-?\\d+)\\)\", r\"(\\2,\\1)\", coords))"
      ],
      "metadata": {
        "id": "0LTYEkBGNgnz",
        "colab": {
          "base_uri": "https://localhost:8080/"
        },
        "outputId": "d4819c1c-7f9d-487f-b91a-e3f02d5e223a"
      },
      "execution_count": null,
      "outputs": [
        {
          "output_type": "stream",
          "name": "stdout",
          "text": [
            "(2,1) (8,5) (3,-2)\n"
          ]
        }
      ]
    },
    {
      "cell_type": "markdown",
      "source": [
        "Ao colocar o prefixo `?:` num grupo, este deixa de ser um grupo de captura. Por exemplo, `(?:a|b|c)`. Isto é útil para funções como `re.findall`, em que, havendo pelo menos um grupo de captura na expressão regular, apenas a correspondência do grupo é devolvida."
      ],
      "metadata": {
        "id": "wB4QFOQ4N65r"
      }
    },
    {
      "cell_type": "code",
      "source": [
        "print(re.findall(r\"\\d(\\d)\\d\", \"123 456 789\"))\n",
        "print(re.findall(r\"\\d(?:\\d)\\d\", \"123 456 789\"))"
      ],
      "metadata": {
        "id": "9Pd_2RkXOQB4",
        "colab": {
          "base_uri": "https://localhost:8080/"
        },
        "outputId": "f3755182-3141-42c8-d49c-6baf975ee01d"
      },
      "execution_count": null,
      "outputs": [
        {
          "output_type": "stream",
          "name": "stdout",
          "text": [
            "['2', '5', '8']\n",
            "['123', '456', '789']\n"
          ]
        }
      ]
    },
    {
      "cell_type": "markdown",
      "source": [
        "Por defeito, os operadores `*` e `+` são gananciosos (*greedy*). Podemos, através do operador `?`, torná-los preguiçosos (*lazy*). Segue-se um exemplo:"
      ],
      "metadata": {
        "id": "FJjj4K2o12MV"
      }
    },
    {
      "cell_type": "code",
      "source": [
        "import re\n",
        "\n",
        "pal = \"banana\"\n",
        "\n",
        "m_greedy = re.search(r'ba.*a', pal)\n",
        "m_lazy = re.search(r'ba.*?a', pal)\n",
        "\n",
        "print(m_greedy.group(0)) # banana\n",
        "print(m_lazy.group(0)) # bana"
      ],
      "metadata": {
        "id": "AmI7zjv72Ibd",
        "colab": {
          "base_uri": "https://localhost:8080/"
        },
        "outputId": "dc119c89-9b2e-42dd-b27f-12b2ccf8c160"
      },
      "execution_count": null,
      "outputs": [
        {
          "output_type": "stream",
          "name": "stdout",
          "text": [
            "banana\n",
            "bana\n"
          ]
        }
      ]
    },
    {
      "cell_type": "markdown",
      "source": [
        "## Exercício 1 - Conversão de datas\n",
        "\n",
        "Define a função `iso_8601` que converte as datas presentes numa string no formato DD/MM/AAAA para o formato ISO 8601 - AAAA-MM-DD, usando expressões regulares e grupos de captura.\n",
        "\n",
        "NOTA: Quando usamos grupos de captura em conjunto com a função `re.findall()`, esta passa a devolver uma lista de tuplos, em que cada elemento do tuplo corresponde a uma correspondência de um grupo de captura."
      ],
      "metadata": {
        "id": "0z3asvbtZijn"
      }
    },
    {
      "cell_type": "code",
      "source": [
        "texto = \"\"\"A 03/01/2022, V foi de férias com a sua família.\n",
        "Ficaram hospedados num hotel e aproveitaram as férias para passear e descobrir novos locais.\n",
        "Mais tarde, no dia 12/01/2022, V voltou para casa e começou a trabalhar num novo projeto.\n",
        "Passou muitas horas no computador, mas finalmente terminou o projeto a 15/01/2022.\n",
        "\n",
        "Alguns meses depois, a 26/09/2023, V casou-se com Judy e no dia 30/09/2023 partiram na\n",
        "sua lua-de-mel para o local onde V tinha ido de férias no ano anterior.\"\"\"\n",
        "\n",
        "def iso_8601(s):\n",
        "  return re.sub(r\"(\\d{2})/(\\d{2})/(\\d{4})\", r\"\\3-\\2-\\1\",s)\n",
        "\n",
        "print(iso_8601(texto))"
      ],
      "metadata": {
        "id": "VZXeGvw7aLIG",
        "colab": {
          "base_uri": "https://localhost:8080/"
        },
        "outputId": "8a86fb58-5b8e-4ac9-bc4e-a2a0db6ebf25"
      },
      "execution_count": null,
      "outputs": [
        {
          "output_type": "stream",
          "name": "stdout",
          "text": [
            "A 2022-01-03, V foi de férias com a sua família.\n",
            "Ficaram hospedados num hotel e aproveitaram as férias para passear e descobrir novos locais.\n",
            "Mais tarde, no dia 2022-01-12, V voltou para casa e começou a trabalhar num novo projeto.\n",
            "Passou muitas horas no computador, mas finalmente terminou o projeto a 2022-01-15.\n",
            "\n",
            "Alguns meses depois, a 2023-09-26, V casou-se com Judy e no dia 2023-09-30 partiram na\n",
            "sua lua-de-mel para o local onde V tinha ido de férias no ano anterior.\n"
          ]
        }
      ]
    },
    {
      "cell_type": "markdown",
      "source": [
        "## Exercício 2 - Validação de ficheiros\n",
        "\n",
        "Escreve um programa que lê uma lista de nomes de ficheiros e determina se cada nome é válido ou não. O nome de um ficheiro deve conter apenas caracteres alfanuméricos, hífens, underscores ou pontos, seguido de uma extensão (e.g., \".txt\", \".png\", etc.)."
      ],
      "metadata": {
        "id": "WscyvBdMY8ic"
      }
    },
    {
      "cell_type": "code",
      "source": [
        "file_names = [\n",
        "  \"document.txt\", # válido\n",
        "  \"file name.docx\", # inválido\n",
        "  \"image_001.jpg\", # válido\n",
        "  \"script.sh.txt\", # válido\n",
        "  \"test_file.txt\", # válido\n",
        "  \"file_name.\", # inválido\n",
        "  \"my_resume.docx\", # válido\n",
        "  \".hidden-file.txt\", # válido\n",
        "  \"important-file.text file\", # inválido\n",
        "  \"file%name.jpg\" # inválido\n",
        "]\n",
        "\n",
        "for file in file_names:\n",
        "  print(file, end=' ')\n",
        "  if re.fullmatch(r\"[\\w\\-.]+\\.\\w+\", file):\n",
        "    print(\"Válido\")\n",
        "  else:\n",
        "    print(\"Inválido\")"
      ],
      "metadata": {
        "id": "uUAouM4MZkF6",
        "colab": {
          "base_uri": "https://localhost:8080/"
        },
        "outputId": "11508cbc-b926-4433-d0b5-6cf081505501"
      },
      "execution_count": null,
      "outputs": [
        {
          "output_type": "stream",
          "name": "stdout",
          "text": [
            "document.txt Válido\n",
            "file name.docx Inválido\n",
            "image_001.jpg Válido\n",
            "script.sh.txt Válido\n",
            "test_file.txt Válido\n",
            "file_name. Inválido\n",
            "my_resume.docx Válido\n",
            ".hidden-file.txt Válido\n",
            "important-file.text file Inválido\n",
            "file%name.jpg Inválido\n"
          ]
        }
      ]
    },
    {
      "cell_type": "markdown",
      "source": [
        "### Alínea 2.1\n",
        "\n",
        "Modifica o programa anterior para colocar os nomes de ficheiro válidos num dicionário, no qual as chaves deverão ser as extensões dos mesmos. Por outras palavras, agrupa os ficheiros por extensão."
      ],
      "metadata": {
        "id": "keqnY2BFZkvR"
      }
    },
    {
      "cell_type": "code",
      "source": [
        "ficheiros = dict()\n",
        "\n",
        "for file in file_names:\n",
        "  m = re.fullmatch(r\"[\\w\\-.]+(\\.\\w+)\", file)\n",
        "  if m:\n",
        "    extensao = m.group(1)\n",
        "    if extensao in ficheiros:\n",
        "      ficheiros[extensao].append(m.group(0))\n",
        "    else:\n",
        "      ficheiros[extensao] = [ m.group(0) ]\n",
        "\n",
        "print(ficheiros)"
      ],
      "metadata": {
        "id": "zdJMjdJsZ6FZ",
        "colab": {
          "base_uri": "https://localhost:8080/"
        },
        "outputId": "ea2e2c70-96b7-4771-e18c-0723dc3c8f30"
      },
      "execution_count": null,
      "outputs": [
        {
          "output_type": "stream",
          "name": "stdout",
          "text": [
            "{'.txt': ['document.txt', 'script.sh.txt', 'test_file.txt', '.hidden-file.txt'], '.jpg': ['image_001.jpg'], '.docx': ['my_resume.docx']}\n"
          ]
        }
      ]
    },
    {
      "cell_type": "markdown",
      "source": [
        "## Exercício 3 - Conversão de nomes\n",
        "\n",
        "Escreve um filtro de texto que converte cada **nome completo** de uma pessoa encontrada num texto fonte, no formato `PrimeiroNome SegundoNome [...] UltimoNome` para o formato `UltimoNome, PrimeiroNome`. Por exemplo, \"Rui Vieira de Castro\" passa a \"Castro, Rui\". Atenção aos conectores \"de\", \"dos\", etc."
      ],
      "metadata": {
        "id": "a40c7yfabZOZ"
      }
    },
    {
      "cell_type": "code",
      "source": [
        "texto = \"\"\"Este texto foi feito por Sofia Guilherme Rodrigues dos Santos, com\n",
        "base no texto original de Pedro Rafael Paiva Moura, com a ajuda\n",
        "do professor Pedro Rangel Henriques e do professor José João Antunes Guimarães\n",
        "Dias De Almeida.\n",
        "Apesar de partilharem o mesmo apelido, a Sofia não é da mesma família do famoso\n",
        "autor José Rodrigues dos Santos.\"\"\"\n",
        "\n",
        "# ..."
      ],
      "metadata": {
        "id": "aYONUP3BcAdf"
      },
      "execution_count": null,
      "outputs": []
    },
    {
      "cell_type": "markdown",
      "source": [
        "## Exercício 4 - Códigos postais 2\n",
        "\n",
        "Define uma função `codigos_postais` que recebe uma lista de códigos postais e divide-os com base no hífen. Ao contrário do exercício da ficha anterior, esta função pode receber códigos postais inválidos. A função deve devolver uma lista de pares e apenas processar cada linha uma vez."
      ],
      "metadata": {
        "id": "7mMTNkFUm7lV"
      }
    },
    {
      "cell_type": "code",
      "source": [
        "lista = [\n",
        "    \"4700-000\", # válido\n",
        "    \"9876543\", # inválido\n",
        "    \"1234-567\", # válido\n",
        "    \"8x41-5a3\", # inválido\n",
        "    \"84234-12\", # inválido\n",
        "    \"4583--321\", # inválido\n",
        "    \"9481-025\" # válido\n",
        "]\n",
        "\n",
        "# ..."
      ],
      "metadata": {
        "id": "rvxXocYpnqlX"
      },
      "execution_count": null,
      "outputs": []
    },
    {
      "cell_type": "markdown",
      "source": [
        "## Exercício 5 - Expansão de abreviaturas\n",
        "\n",
        "Escreve um filtro de texto que expanda as abreviaturas que encontrar no texto fonte no formato \"/abrev\"."
      ],
      "metadata": {
        "id": "m2rtSDSccn33"
      }
    },
    {
      "cell_type": "code",
      "source": [
        "abreviaturas = {\n",
        "    \"UM\": \"Universidade do Minho\",\n",
        "    \"LEI\": \"Licenciatura em Engenharia Informática\",\n",
        "    \"UC\": \"Unidade Curricular\",\n",
        "    \"PL\": \"Processamento de Linguagens\"\n",
        "}\n",
        "\n",
        "texto = \"A /abrev{UC} de /abrev{PL} é muito fixe! É uma /abrev{UC} que acrescenta muito ao curso de /abrev{LEI} da /abrev{UM}.\"\n",
        "\n",
        "# ..."
      ],
      "metadata": {
        "id": "Hm60iNFV52oX"
      },
      "execution_count": null,
      "outputs": []
    },
    {
      "cell_type": "markdown",
      "source": [
        "## Exercício 6 - Matrículas\n",
        "\n",
        "Define uma função `matricula_valida` que recebe uma string de texto e determina se esta contém uma matrícula válida. Uma matrícula segue o formato AA-BB-CC, no qual dois dos três conjuntos devem ser compostos por números e o terceiro por letras maiúsculas (por exemplo, 01-AB-23), ou o novo formato no qual dois dos conjuntos são compostos por letras maiúsculas e o terceiro por números (por exemplo, 89-WX-YZ). Os conjuntos podem ser separados por um hífen ou um espaço.\n",
        "\n",
        "Extra: Garante que o mesmo separador é usado para separar os três conjuntos."
      ],
      "metadata": {
        "id": "oEiMpi4FDkqm"
      }
    },
    {
      "cell_type": "code",
      "source": [
        "matriculas = [\n",
        "    \"AA-AA-AA\", # inválida\n",
        "    \"LR-RB-32\", # válida\n",
        "    \"1234LX\", # inválida\n",
        "    \"PL 22 23\", # válida\n",
        "    \"ZZ-99-ZZ\", # válida\n",
        "    \"54-tb-34\", # inválida\n",
        "    \"12 34 56\", # inválida\n",
        "    \"42-HA BQ\" # válida, mas inválida com o requisito extra\n",
        "]"
      ],
      "metadata": {
        "id": "CPR0gi10E5Dj"
      },
      "execution_count": null,
      "outputs": []
    },
    {
      "cell_type": "markdown",
      "source": [
        "## Exercício 7 - *Mad Libs*\n",
        "\n",
        "O jogo *Mad Libs*, bastante comum em países como os Estados Unidos, consiste em pegar num texto com espaços para algumas palavras e preencher esses espaços de acordo com o tipo de palavra que é pedida.\n",
        "\n",
        "Escreve um programa que lê um texto no formato *Mad Libs* e pede ao utilizador para fornecer palavras que completem corretamente o texto."
      ],
      "metadata": {
        "id": "-_NVZEbp8xM-"
      }
    },
    {
      "cell_type": "code",
      "source": [
        "texto = \"\"\"Num lindo dia de [ESTAÇÃO DO ANO], [NOME DE PESSOA] foi passear com o seu [EXPRESSÃO DE PARENTESCO MASCULINA].\n",
        "Quando chegaram à [NOME DE LOCAL FEMININO], encontraram um [OBJETO MASCULINO] muito [ADJETIVO MASCULINO].\n",
        "Ficaram muito confusos, pois não conseguiam identificar a função daquilo.\n",
        "Seria para [VERBO INFINITIVO]? Tentaram perguntar a [NOME DE PESSOA FAMOSA], que também não sabia.\n",
        "Desanimados, pegaram no objeto e deixaram-no no [NOME DE LOCAL MASCULINO] mais próximo.\n",
        "Talvez os [NOME PLURAL MASCULINO] de lá conseguissem encontrar alguma utilidade para aquilo.\"\"\"\n",
        "\n",
        "def preenche(m : re.Match) -> str:\n",
        "  r = input(f\"Insere um(a) {m.group(1)}:\")\n",
        "  return r\n",
        "\n",
        "print(re.sub(r\"\\[(.*?)\\]\", preenche, texto))"
      ],
      "metadata": {
        "id": "VGX0mrL29Vgv",
        "colab": {
          "base_uri": "https://localhost:8080/"
        },
        "outputId": "192fd0fc-3e95-4f9a-a144-da4d86779878"
      },
      "execution_count": null,
      "outputs": [
        {
          "output_type": "stream",
          "name": "stdout",
          "text": [
            "Insere um(a) ESTAÇÃO DO ANO:primavera\n",
            "Insere um(a) NOME DE PESSOA:Pedro\n",
            "Insere um(a) EXPRESSÃO DE PARENTESCO MASCULINA:pai\n",
            "Insere um(a) NOME DE LOCAL FEMININO:igreja\n",
            "Insere um(a) OBJETO MASCULINO:quadro\n",
            "Insere um(a) ADJETIVO MASCULINO:mudo\n",
            "Insere um(a) VERBO INFINITIVO:transitar\n",
            "Insere um(a) NOME DE PESSOA FAMOSA:Professor Ramalho\n",
            "Insere um(a) NOME DE LOCAL MASCULINO:pátio\n",
            "Insere um(a) NOME PLURAL MASCULINO:camelos\n",
            "Num lindo dia de primavera, Pedro foi passear com o seu pai.\n",
            "Quando chegaram à igreja, encontraram um quadro muito mudo.\n",
            "Ficaram muito confusos, pois não conseguiam identificar a função daquilo.\n",
            "Seria para transitar? Tentaram perguntar a Professor Ramalho, que também não sabia.\n",
            "Desanimados, pegaram no objeto e deixaram-no no pátio mais próximo.\n",
            "Talvez os camelos de lá conseguissem encontrar alguma utilidade para aquilo.\n"
          ]
        }
      ]
    },
    {
      "cell_type": "markdown",
      "source": [
        "## Exercício 8 - Remoção de repetidos\n",
        "\n",
        "Escreve um filtro de texto que sempre que encontrar no texto fonte uma palavra repetida elimina as repetições, ou seja, substitui a lista de palavras por 1 só palavra."
      ],
      "metadata": {
        "id": "z8HMWeua6Zc2"
      }
    },
    {
      "cell_type": "code",
      "source": [
        "# ..."
      ],
      "metadata": {
        "id": "YZxTwl0C6v2b"
      },
      "execution_count": null,
      "outputs": []
    }
  ]
}